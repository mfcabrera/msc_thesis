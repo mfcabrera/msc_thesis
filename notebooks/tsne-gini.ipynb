{
 "metadata": {
  "name": ""
 },
 "nbformat": 3,
 "nbformat_minor": 0,
 "worksheets": [
  {
   "cells": [
    {
     "cell_type": "code",
     "collapsed": false,
     "input": [
      "from gensim.models import word2vec"
     ],
     "language": "python",
     "metadata": {},
     "outputs": [],
     "prompt_number": 2
    },
    {
     "cell_type": "code",
     "collapsed": false,
     "input": [
      "model = word2vec.Word2Vec.load_word2vec_format('de3E9.bin',binary=True)"
     ],
     "language": "python",
     "metadata": {},
     "outputs": [],
     "prompt_number": 3
    },
    {
     "cell_type": "code",
     "collapsed": false,
     "input": [
      " model.most_similar(positive=['frau', 'koenig'], negative=['mann'])"
     ],
     "language": "python",
     "metadata": {},
     "outputs": [
      {
       "metadata": {},
       "output_type": "pyout",
       "prompt_number": 7,
       "text": [
        "[('gemahlin', 0.72522426),\n",
        " ('gattin', 0.64882195),\n",
        " ('edgith', 0.64861459),\n",
        " ('koenigs', 0.64086556),\n",
        " ('vladislavs', 0.63747227),\n",
        " ('mitregentin', 0.63738412),\n",
        " ('koenigsgemahlin', 0.63574708),\n",
        " ('koenigin', 0.63131845),\n",
        " ('thronansprueche', 0.62454271),\n",
        " ('regentin', 0.62117279)]"
       ]
      }
     ],
     "prompt_number": 7
    },
    {
     "cell_type": "code",
     "collapsed": false,
     "input": [
      " model.most_similar(positive=['berlin', 'england'], negative=['deutschland'])"
     ],
     "language": "python",
     "metadata": {},
     "outputs": [
      {
       "metadata": {},
       "output_type": "pyout",
       "prompt_number": 10,
       "text": [
        "[('dorset', 0.55140525),\n",
        " ('london', 0.54855478),\n",
        " ('sussex', 0.54572964),\n",
        " ('cornwall', 0.54447097),\n",
        " ('suffolk', 0.54392934),\n",
        " ('essex', 0.53380001),\n",
        " ('oxfordshire', 0.51856804),\n",
        " ('warwickshire', 0.51826203),\n",
        " ('edinburgh', 0.51790893),\n",
        " ('surrey', 0.51409358)]"
       ]
      }
     ],
     "prompt_number": 10
    },
    {
     "cell_type": "code",
     "collapsed": false,
     "input": [],
     "language": "python",
     "metadata": {},
     "outputs": []
    }
   ],
   "metadata": {}
  }
 ]
}