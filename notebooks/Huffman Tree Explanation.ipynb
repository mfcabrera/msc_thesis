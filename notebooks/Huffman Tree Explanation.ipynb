{
 "metadata": {
  "name": ""
 },
 "nbformat": 3,
 "nbformat_minor": 0,
 "worksheets": [
  {
   "cells": [
    {
     "cell_type": "heading",
     "level": 1,
     "source": [
      "Explanation of the Usage of the Huffman Treee in Word2Vec\n",
      "\n"
     ]
    },
    {
     "cell_type": "heading",
     "level": 3,
     "source": [
      "Huffman Tree Creation\n"
     ]
    },
    {
     "cell_type": "markdown",
     "source": [
      "Huffman coding allows us to build encode using a variable lenght code table based on the frequeency. In the context of word2vec this is the word frequency. This is helpful because allow us to quickly find out the probability of a word using something proportional to $nlog(n)$ as is  a tree. That is the most common terms are stored on the top of the treee making really fast to fetch the probability. AS we will explain later the porabability of this terms is necessary to calculate the window probability.\n",
      "\n",
      "\n",
      "To create the huffman tree in word2vec we it is use a combination of a hashed vocabulary and priority queque. Gensim uses the Vocab object as this:\n",
      "\n"
     ]
    },
    {
     "cell_type": "code",
     "collapsed": false,
     "input": [
      "class Vocab(object):\n",
      "    \"\"\"A single vocabulary item, used internally for constructing binary trees (incl. both word leaves and inner nodes).\"\"\"\n",
      "    def __init__(self, **kwargs):\n",
      "        # self.count = 0\n",
      "        self.__dict__.update(kwargs)\n",
      "\n",
      "    def __lt__(self, other):  # used for sorting in a priority queue\n",
      "        return self.count < other.count\n",
      "\n",
      "    def __str__(self):\n",
      "        vals = ['%s:%r' % (key, self.__dict__[key]) for key in sorted(self.__dict__) if not key.startswith('_')]\n",
      "        return \"<\" + ', '.join(vals) + \">\"\n"
     ],
     "language": "python",
     "outputs": [],
     "prompt_number": 5
    },
    {
     "cell_type": "markdown",
     "source": [
      "To exemplify lets use a priority queue that comes with python and as sample data the frequencies of the letters in english.\n",
      "\n"
     ]
    },
    {
     "cell_type": "code",
     "collapsed": false,
     "input": [
      "import heapq \n",
      "from numpy import exp, dot, zeros, outer, random, dtype, get_include, float32 as REAL,\\\n",
      "    uint32, seterr, array, uint8, vstack, argsort, fromstring, sqrt, newaxis, ndarray, empty\n",
      "freq = [\n",
      "    (8.167, 'a'), (1.492, 'b'), (2.782, 'c'), (4.253, 'd'),\n",
      "    (12.702, 'e'),(2.228, 'f'), (2.015, 'g'), (6.094, 'h'),\n",
      "    (6.966, 'i'), (0.153, 'j'), (0.747, 'k'), (4.025, 'l'),\n",
      "    (2.406, 'm'), (6.749, 'n'), (7.507, 'o'), (1.929, 'p'), \n",
      "    (0.095, 'q'), (5.987, 'r'), (6.327, 's'), (9.056, 't'), \n",
      "    (2.758, 'u'), (1.037, 'v'), (2.365, 'w'), (0.150, 'x'),\n",
      "    (1.974, 'y'), (0.074, 'z') ]\n",
      "\n",
      "#print([(key,value) for (key,value) in freq])\n",
      "vocab = {value:Vocab(count=key,character=value) for (key,value) in freq}\n",
      "\n",
      "\n",
      "i = 0\n",
      "for word,v in vocab.iteritems() :\n",
      "    v.index = i\n",
      "    i += 1\n",
      "\n",
      "\n",
      "# Here we start creating the binary tree\n",
      "heap = vocab.values()\n",
      "heapq.heapify(heap)\n",
      "\n",
      "\n",
      "# first go throught the heap and create a three like structure creating branch (internal) nodes\n",
      "# with the left and right nodes as the sum of the counts (or probabilities)\n",
      "for i in xrange(len(vocab) - 1):\n",
      "    min1, min2 = heapq.heappop(heap), heapq.heappop(heap)\n",
      "    heapq.heappush(heap, Vocab(count=min1.count + min2.count, index=i + len(vocab), character = min1.character + '|' +  min2.character,  left=min1, right=min2))\n",
      "\n",
      "\n",
      "print(heap[0])\n",
      "\n"
     ],
     "language": "python",
     "outputs": [
      {
       "output_type": "stream",
       "stream": "stdout",
       "text": [
        "<character:'t | f | v | z | q | x | j | k | w | m | u | c | r | h | s | e | n | i | b | p | y | g | o | a | l | d', count:100.03800000000001, index:50, left:<__main__.Vocab object at 0x104bc8950>, right:<__main__.Vocab object at 0x104bc8a90>>\n"
       ]
      }
     ],
     "prompt_number": 52
    },
    {
     "cell_type": "code",
     "collapsed": false,
     "input": [
      "\n",
      "print(\"Len of vocab %d\" %  len(vocab))\n",
      "if heap:\n",
      "    max_depth, stack = 0, [(heap[0], [], [])]\n",
      "    while stack:\n",
      "        node, codes, points = stack.pop()\n",
      "        if node.index < len(vocab):\n",
      "            # leaf node => store its path from the root\n",
      "            print(\"Leaf node %s with codes %s and points %s \" % (node.character,codes, points) )\n",
      "            node.code, node.point = codes, points\n",
      "            max_depth = max(len(codes), max_depth)\n",
      "        else:\n",
      "            # inner node => continue recursion\n",
      "            print(\"Inner node with character %s and index %d and points %s\" % (node.character, node.index, points))\n",
      "            points = array(list(points) + [node.index - len(vocab)], dtype=uint32)\n",
      "            stack.append((node.left, array(list(codes) + [0], dtype=uint8), points))\n",
      "            stack.append((node.right, array(list(codes) + [1], dtype=uint8), points))\n",
      "\n",
      "\n",
      "\n"
     ],
     "language": "python",
     "outputs": [
      {
       "output_type": "stream",
       "stream": "stdout",
       "text": [
        "Len of vocab 26\n",
        "Inner node with character t | f | v | z | q | x | j | k | w | m | u | c | r | h | s | e | n | i | b | p | y | g | o | a | l | d and index 50 and points []\n",
        "Inner node with character e | n | i | b | p | y | g | o | a | l | d and index 49 and points [24]\n",
        "Inner node with character b | p | y | g | o | a | l | d and index 47 and points [24 23]\n",
        "Inner node with character a | l | d and index 43 and points [24 23 21]\n",
        "Inner node with character l | d and index 37 and points [24 23 21 17]\n",
        "Leaf node d with codes [1 1 1 1 1] and points [24 23 21 17 11] \n",
        "Leaf node l with codes [1 1 1 1 0] and points [24 23 21 17 11] \n",
        "Leaf node a with codes [1 1 1 0] and points [24 23 21 17] \n",
        "Inner node with character b | p | y | g | o and index 42 and points [24 23 21]\n",
        "Leaf node o with codes [1 1 0 1] and points [24 23 21 16] \n",
        "Inner node with character b | p | y | g and index 36 and points [24 23 21 16]\n",
        "Inner node with character y | g and index 32 and points [24 23 21 16 10]\n",
        "Leaf node g with codes [1 1 0 0 1 1] and points [24 23 21 16 10  6] \n",
        "Leaf node y with codes [1 1 0 0 1 0] and points [24 23 21 16 10  6] \n",
        "Inner node with character b | p and index 31 and points [24 23 21 16 10]\n",
        "Leaf node p with codes [1 1 0 0 0 1] and points [24 23 21 16 10  5] \n",
        "Leaf node b with codes [1 1 0 0 0 0] and points [24 23 21 16 10  5] \n",
        "Inner node with character e | n | i and index 46 and points [24 23]\n",
        "Inner node with character n | i and index 41 and points [24 23 20]\n",
        "Leaf node i with codes [1 0 1 1] and points [24 23 20 15] \n",
        "Leaf node n with codes [1 0 1 0] and points [24 23 20 15] \n",
        "Leaf node e with codes [1 0 0] and points [24 23 20] \n",
        "Inner node with character t | f | v | z | q | x | j | k | w | m | u | c | r | h | s and index 48 and points [24]\n",
        "Inner node with character u | c | r | h | s and index 45 and points [24 22]\n",
        "Inner node with character h | s and index 40 and points [24 22 19]\n",
        "Leaf node s with codes [0 1 1 1] and points [24 22 19 14] \n",
        "Leaf node h with codes [0 1 1 0] and points [24 22 19 14] \n",
        "Inner node with character u | c | r and index 39 and points [24 22 19]\n",
        "Leaf node r with codes [0 1 0 1] and points [24 22 19 13] \n",
        "Inner node with character u | c and index 35 and points [24 22 19 13]\n",
        "Leaf node c with codes [0 1 0 0 1] and points [24 22 19 13  9] \n",
        "Leaf node u with codes [0 1 0 0 0] and points [24 22 19 13  9] \n",
        "Inner node with character t | f | v | z | q | x | j | k | w | m and index 44 and points [24 22]\n",
        "Inner node with character f | v | z | q | x | j | k | w | m and index 38 and points [24 22 18]\n",
        "Inner node with character w | m and index 34 and points [24 22 18 12]\n",
        "Leaf node m with codes [0 0 1 1 1] and points [24 22 18 12  8] \n",
        "Leaf node w with codes [0 0 1 1 0] and points [24 22 18 12  8] \n",
        "Inner node with character f | v | z | q | x | j | k and index 33 and points [24 22 18 12]\n",
        "Inner node with character v | z | q | x | j | k and index 30 and points [24 22 18 12  7]\n",
        "Inner node with character z | q | x | j | k and index 29 and points [24 22 18 12  7  4]\n",
        "Leaf node k with codes [0 0 1 0 1 1 1] and points [24 22 18 12  7  4  3] \n",
        "Inner node with character z | q | x | j and index 28 and points [24 22 18 12  7  4  3]\n",
        "Inner node with character x | j and index 27 and points [24 22 18 12  7  4  3  2]\n",
        "Leaf node j with codes [0 0 1 0 1 1 0 1 1] and points [24 22 18 12  7  4  3  2  1] \n",
        "Leaf node x with codes [0 0 1 0 1 1 0 1 0] and points [24 22 18 12  7  4  3  2  1] \n",
        "Inner node with character z | q and index 26 and points [24 22 18 12  7  4  3  2]\n",
        "Leaf node q with codes [0 0 1 0 1 1 0 0 1] and points [24 22 18 12  7  4  3  2  0] \n",
        "Leaf node z with codes [0 0 1 0 1 1 0 0 0] and points [24 22 18 12  7  4  3  2  0] \n",
        "Leaf node v with codes [0 0 1 0 1 0] and points [24 22 18 12  7  4] \n",
        "Leaf node f with codes [0 0 1 0 0] and points [24 22 18 12  7] \n",
        "Leaf node t with codes [0 0 0] and points [24 22 18] \n"
       ]
      }
     ],
     "prompt_number": 53
    },
    {
     "cell_type": "code",
     "collapsed": false,
     "input": [
      "print(heap[0].right.)"
     ],
     "language": "python",
     "outputs": [
      {
       "output_type": "stream",
       "stream": "stdout",
       "text": [
        "<count:8.278, index:37, left:<__main__.Vocab object at 0x1070296d0>, right:<__main__.Vocab object at 0x107029910>>\n"
       ]
      }
     ],
     "prompt_number": 37
    },
    {
     "cell_type": "code",
     "collapsed": false,
     "input": [],
     "language": "python",
     "outputs": []
    },
    {
     "cell_type": "code",
     "collapsed": false,
     "input": [],
     "language": "python",
     "outputs": []
    }
   ]
  }
 ]
}