{
 "metadata": {
  "name": ""
 },
 "nbformat": 3,
 "nbformat_minor": 0,
 "worksheets": [
  {
   "cells": [
    {
     "cell_type": "markdown",
     "metadata": {},
     "source": [
      "\n",
      "One of hotest things in NLP/Deep Learning is [Word2Vec](https://code.google.com/p/word2vec/). Released as an open source project, Word2Vec is an Neural Netowrk Language model, developed mainly by Tomas Mikolov. It basically creates meaningful vector representation of words. Each dimension is somehow a similarity dimension which captures both syntactic and semantic information of a word. Check http://www.thisplusthat.me/ for an example usage and [this presentation](http://slid.es/christophermoody/thisplusthat) for a nice explanation.\n",
      " \n",
      "There are basically two ways we can use access word2vec vector from python one is using the [word2vec wraper](https://pypi.python.org/pypi/word2vec) that [Daniel Rodriguez](http://danielfrg.github.io/)  developed. The other way is to use it through [http://radimrehurek.com/gensim/models/word2vec.html](Genisim) by Radim Rehurek. \n",
      "\n",
      "I am chosing Gensim because it is a native reimplementation in python and offer nice functionality already.\n",
      "\n",
      "As I mentioned I am interested in the behavior of the word representations with the German language so I traine word2vec using the $3E^9$ bytes of the a German wikipedia dump. To train with the Wikipedia, we have to get the XML dumps and \"clean\" it from tags. To do that I adapted the script found at the end of [this page](http://mattmahoney.net/dc/textdata.html) to German. Basically replacing German \"funky\" characters. 200 I uploaded the adapted version as a [Gist](https://gist.github.com/mfcabrera/7674065).\n",
      "\n",
      "As for the training paramters for this particular test I used the skip-gram model and called word2vec like this:\n",
      "\n",
      "<pre>  time word2vec -train dewiki3e9.txt -output de3E9.bin -skipgram 5 -size 200 -window 5 -negative 0 -hs 1 -sample 1e-3 -threads 12 -binary 1 -save-vocab defull-vocab.txt </pre>\n",
      " \n",
      "To test the model and write part of this blog I used [iPython Notebooks](http://ipython.org/notebook.html) and embeded the HTML output in my blog system.\n",
      "So, stop talking and let's start coding: "
     ]
    },
    {
     "cell_type": "code",
     "collapsed": false,
     "input": [
      "#let's get Gensim. I am assuming you have succesfully installed it\n",
      "\n",
      "from gensim.models import word2vec\n",
      "model = word2vec.Word2Vec.load_word2vec_format('../wordvecs/de3E9.bin',binary=True)\n"
     ],
     "language": "python",
     "metadata": {},
     "outputs": [],
     "prompt_number": 1
    },
    {
     "cell_type": "markdown",
     "metadata": {},
     "source": [
      "This takes time for this particular file. The vector file is almost 1GB and it has to be loaded in memory.  \n",
      "Once loaded the mdoel we can  some of  experiments found in the the paper and see how this particular model performs.  \n",
      "One of the cool example if that you can take the vector representing  _'king'_ add the vector of _'woman'_ and substract the vector of  _'man'_ and you will get vector which cosine distance is most similar to the vector representing _'queen'_. Let's see if that is true for this model:"
     ]
    },
    {
     "cell_type": "code",
     "collapsed": false,
     "input": [
      "model.most_similar(positive=['koenig', 'frau'], negative=['mann'])"
     ],
     "language": "python",
     "metadata": {},
     "outputs": [
      {
       "metadata": {},
       "output_type": "pyout",
       "prompt_number": 3,
       "text": [
        "[('gemahlin', 0.72522426),\n",
        " ('gattin', 0.64882195),\n",
        " ('edgith', 0.64861459),\n",
        " ('koenigs', 0.64086556),\n",
        " ('vladislavs', 0.63747227),\n",
        " ('mitregentin', 0.63738412),\n",
        " ('koenigsgemahlin', 0.63574708),\n",
        " ('koenigin', 0.63131845),\n",
        " ('thronansprueche', 0.62454271),\n",
        " ('regentin', 0.62117279)]"
       ]
      }
     ],
     "prompt_number": 3
    },
    {
     "cell_type": "markdown",
     "metadata": {},
     "source": [
      "Well it does not. But it does not surprise me. We do not have all the data available and the training paramters were chosen arbritarilly so no surprise that it does not work. However We got the word _'gemahlin'_ which is normally useful to refer to the wife of a King (consort). The word  _'gattin'_ is also used for spouse.  However we do see the word _'koenigin'_ and _'koenigsgemahlin'_ which is the  translation for _'queen'_ and 'royal consort'.  Let's see whats happen if I just add the words \n"
     ]
    },
    {
     "cell_type": "code",
     "collapsed": false,
     "input": [
      "model.most_similar(positive=['koenig', 'frau'])"
     ],
     "language": "python",
     "metadata": {},
     "outputs": [
      {
       "metadata": {},
       "output_type": "pyout",
       "prompt_number": 17,
       "text": [
        "[('gemahlin', 0.72934431),\n",
        " ('koenigin', 0.70212948),\n",
        " ('ehefrau', 0.67596328),\n",
        " ('gattin', 0.67325604),\n",
        " ('lieblingstochter', 0.66053975),\n",
        " ('maetresse', 0.65074563),\n",
        " ('nantechild', 0.64813584),\n",
        " ('koenigsgemahlin', 0.64198864),\n",
        " ('eadgifu', 0.6408422),\n",
        " ('gemahl', 0.64082003)]"
       ]
      }
     ],
     "prompt_number": 17
    },
    {
     "cell_type": "markdown",
     "metadata": {},
     "source": [
      "<img src=\"http://upload.wikimedia.org/wikipedia/commons/7/71/Wei%C3%9Fwurst-1.jpg\" alt=\"Drawing\" style=\"width: 200px; text-align: center; float:right; margin:2em; \" />\n",
      "\n",
      "Wow well, almost :) - Only adding _'frau'_ to _'koenig'_ gave me in the top positions both _'queen'_ and _'consort'_.\n",
      "\n",
      "\n",
      "As I live in Munich, we often go on fridays to have a [_Weissw\u00fcrstfr\u00fchstuck_](http://en.wikipedia.org/wiki/Weisswurst) or a trational M\u00fcncher/Bayerisch breakfast. It is basically White sausace, sweet mustard and pretzel (accompained with an optional _Wiessbier_ or wheat beer). \n",
      " Let see if our Word2Vec model can differentiate  the components of this delicious meal. \n",
      "\n"
     ]
    },
    {
     "cell_type": "code",
     "collapsed": false,
     "input": [
      "model.doesnt_match(\"wurst senf brezn apfel\".split())"
     ],
     "language": "python",
     "metadata": {},
     "outputs": [
      {
       "metadata": {},
       "output_type": "pyout",
       "prompt_number": 26,
       "text": [
        "'apfel'"
       ]
      }
     ],
     "prompt_number": 26
    },
    {
     "cell_type": "markdown",
     "metadata": {},
     "source": [
      "This actually worked pretty well. The model was able to caputure that  a 'apple' is not part a traditional breakfast :)\n",
      "\n",
      "On the referenced papers on word2vec webpage they describe some task both semantic and syntactic. let's try one of those and see how it works. This question basically asks, _'berlin'_ is to _'deutschland'_  what _'london'_ is to _'england'_. So basically, country capital relationships. \n"
     ]
    },
    {
     "cell_type": "code",
     "collapsed": false,
     "input": [
      "q = [\"berlin\", \"deutschland\", \"london\", \"england\"]\n",
      "model.most_similar(positive=[q[0],q[3]],negative=[q[1]])"
     ],
     "language": "python",
     "metadata": {},
     "outputs": [
      {
       "metadata": {},
       "output_type": "pyout",
       "prompt_number": 29,
       "text": [
        "[('dorset', 0.55140525),\n",
        " ('london', 0.54855478),\n",
        " ('sussex', 0.54572964),\n",
        " ('cornwall', 0.54447097),\n",
        " ('suffolk', 0.54392934),\n",
        " ('essex', 0.53380001),\n",
        " ('oxfordshire', 0.51856804),\n",
        " ('warwickshire', 0.51826203),\n",
        " ('edinburgh', 0.51790893),\n",
        " ('surrey', 0.51409358)]"
       ]
      }
     ],
     "prompt_number": 29
    },
    {
     "cell_type": "markdown",
     "metadata": {},
     "source": [
      "So, the top answer is _'dorset'_ which is a county of England way in the south. But the second one is actually London. So, not bad. As I mentioned above, this model was trained basically with defualt paramters and with not necessarily a big data set (as the on in the paper) Therefore, the embedings might not be as accurate as desired or capture all the information that we would like."
     ]
    }
   ],
   "metadata": {}
  }
 ]
}