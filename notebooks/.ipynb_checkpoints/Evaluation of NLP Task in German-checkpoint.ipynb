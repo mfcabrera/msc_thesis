{
 "metadata": {
  "name": ""
 },
 "nbformat": 3,
 "nbformat_minor": 0,
 "worksheets": [
  {
   "cells": [
    {
     "cell_type": "heading",
     "level": 1,
     "metadata": {},
     "source": [
      "Evaluating the Results from Word2Vec vs the result"
     ]
    },
    {
     "cell_type": "markdown",
     "metadata": {},
     "source": [
      "We import word2vec to make it cool"
     ]
    },
    {
     "cell_type": "code",
     "collapsed": false,
     "input": [
      "import word2vec \n",
      "import os\n",
      "import pprint as pp"
     ],
     "language": "python",
     "metadata": {},
     "outputs": [],
     "prompt_number": 20
    },
    {
     "cell_type": "code",
     "collapsed": false,
     "input": [],
     "language": "python",
     "metadata": {},
     "outputs": []
    },
    {
     "cell_type": "markdown",
     "metadata": {},
     "source": [
      "We load a previously created thing, seeing if this implementation work. This is a huge file:"
     ]
    },
    {
     "cell_type": "code",
     "collapsed": false,
     "input": [
      "vec_file = '../../gini_thesis/experiments/dewiki-full-nostemm-DE0011.bin'\n",
      "print \"File size: %iGB\" %  (os.path.getsize(vec_file) / (1024.0 * 1024 * 1024))"
     ],
     "language": "python",
     "metadata": {},
     "outputs": [
      {
       "output_type": "stream",
       "stream": "stdout",
       "text": [
        "File size: 2GB\n"
       ]
      }
     ],
     "prompt_number": 3
    },
    {
     "cell_type": "code",
     "collapsed": false,
     "input": [
      "model = word2vec.load(vec_file,True,True) # Binary format and save memory ... curioous\n"
     ],
     "language": "python",
     "metadata": {},
     "outputs": [],
     "prompt_number": 4
    },
    {
     "cell_type": "markdown",
     "metadata": {},
     "source": [
      "Let's test first the existence of some words\n"
     ]
    },
    {
     "cell_type": "code",
     "collapsed": false,
     "input": [
      "model.cosine('brasilien')"
     ],
     "language": "python",
     "metadata": {},
     "outputs": [
      {
       "metadata": {},
       "output_type": "pyout",
       "prompt_number": 10,
       "text": [
        "{'brasilien': [('argentinien', 0.8104031891710477),\n",
        "  ('brasilianischen', 0.78227276546177693),\n",
        "  ('brasiliens', 0.77828717215954524),\n",
        "  ('janeiro', 0.76292871963061959),\n",
        "  ('paulo', 0.74538598632568642),\n",
        "  ('paraguay', 0.74469503731312159),\n",
        "  ('rio', 0.74097944489749157),\n",
        "  ('brasilianische', 0.74045480793569651),\n",
        "  ('uruguay', 0.73522229588201138),\n",
        "  ('maracana', 0.73225286992220717)]}"
       ]
      }
     ],
     "prompt_number": 10
    },
    {
     "cell_type": "code",
     "collapsed": false,
     "input": [],
     "language": "python",
     "metadata": {},
     "outputs": []
    },
    {
     "cell_type": "heading",
     "level": 2,
     "metadata": {},
     "source": [
      "Evaluating the Currency"
     ]
    },
    {
     "cell_type": "markdown",
     "metadata": {},
     "source": [
      "Let's evaluate the currency with the loaded model in memory and investigate what is going on here. "
     ]
    },
    {
     "cell_type": "code",
     "collapsed": false,
     "input": [
      "pp.pprint(model.analogy(pos=['algerien', 'kwanza'], neg=['dinar'], n=35))\n",
      "pp.pprint(model.analogy(pos=['bulgarien', 'rupee'], neg=['lev'], n=35))\n",
      "pp.pprint(model.analogy(pos=['japan', 'won'], neg=['yen'], n=35))\n",
      "\n"
     ],
     "language": "python",
     "metadata": {},
     "outputs": [
      {
       "output_type": "stream",
       "stream": "stdout",
       "text": [
        "[('moxico', 0.3075896164161992),\n",
        " ('angola', 0.30560487010768955),\n",
        " ('gabun', 0.30303531913133874),\n",
        " ('mostaganem', 0.30240590414135271),\n",
        " ('marokko', 0.30193846064062457),\n",
        " ('mayombe', 0.30069186035577333),\n",
        " ('afrika', 0.30052262886859271),\n",
        " ('tunesien', 0.30020449104939223),\n",
        " ('cunene', 0.29941514994958002),\n",
        " ('adamaoua', 0.29704445345891428),\n",
        " ('mocambique', 0.29678776749126135),\n",
        " ('cubango', 0.29668334462874896),\n",
        " ('mozambik', 0.29528452461957672),\n",
        " ('kontinentalafrikas', 0.29461455993727548),\n",
        " ('investcom', 0.29347382489028007),\n",
        " ('oio', 0.29339195567817089),\n",
        " ('senegal', 0.29316541529965501),\n",
        " ('cuanza', 0.29307537673601797),\n",
        " ('dahom', 0.29288275623582427),\n",
        " ('bengo', 0.29269859721811808),\n",
        " ('senegals', 0.29258307808675243),\n",
        " ('malange', 0.29228573576424144),\n",
        " ('luena', 0.29208046824402334),\n",
        " ('mandoul', 0.29189571791083735),\n",
        " ('senegambien', 0.29186527206899493),\n",
        " ('oberguinea', 0.29141976138870951),\n",
        " ('cacheu', 0.29131894921813473),\n",
        " ('trombetas', 0.29125727011303082),\n",
        " ('quilombo', 0.29104651915270807),\n",
        " ('gabunischen', 0.29091951488359902),\n",
        " ('biombo', 0.29078838568061971),\n",
        " ('likasi', 0.29078492531209627),\n",
        " ('guyanischen', 0.29078129750097592),\n",
        " ('matamba', 0.29064857157311746),\n",
        " ('bafat', 0.29050154237916792),\n",
        " ('guineabissau', 0.29028346301677466)]\n",
        "["
       ]
      },
      {
       "output_type": "stream",
       "stream": "stdout",
       "text": [
        "('rufiyaa', 0.33229714123626919),\n",
        " ('ejr', 0.32546757942062798),\n",
        " ('vertragsoman', 0.32473228559062439),\n",
        " ('malediver', 0.32343005023225252),\n",
        " ('ngultrum', 0.32184026719271597),\n",
        " ('investcom', 0.32129483069619702),\n",
        " ('malaysien', 0.32057456519705507),\n",
        " ('euromunzen', 0.31877902934489555),\n",
        " ('tamga', 0.31864264752921656),\n",
        " ('mozambik', 0.31809002228336192),\n",
        " ('gikas', 0.31805596102340428),\n",
        " ('suedjemenitische', 0.3177822424904766),\n",
        " ('kullo', 0.31777091293592868),\n",
        " ('pathanen', 0.31768397408196325),\n",
        " ('golfkooperationsrates', 0.31768199557416854),\n",
        " ('bhor', 0.31743539003300336),\n",
        " ('hauptabnehmerlaender', 0.31740506491063203),\n",
        " ('balhaf', 0.31739847093822871),\n",
        " ('poonch', 0.31711765573859463),\n",
        " ('erdoelhandel', 0.31697168912795021),\n",
        " ('nwfp', 0.31670027374063414),\n",
        " ('singapura', 0.31634628507342877),\n",
        " ('gsse', 0.31626703743107443),\n",
        " ('shihr', 0.31625218117277731),\n",
        " ('suedjemens', 0.31594269535286951),\n",
        " ('bangladeschischen', 0.31570256084316756),\n",
        " ('ostkaribischen', 0.31568368896176124),\n",
        " ('gnq', 0.31555229990909545),\n",
        " ('lilangeni', 0.31554403486208382),\n",
        " ('rastra', 0.31533135092938391),\n",
        " ('kencana', 0.31532474934409249),\n",
        " ('jerudong', 0.31515927314334469),\n",
        " ('trengganu', 0.31501356451513668),\n",
        " ('polymerbanknoten', 0.31492722279447571),\n",
        " ('barotseland', 0.31462722142538369)]\n",
        "["
       ]
      },
      {
       "output_type": "stream",
       "stream": "stdout",
       "text": [
        "('suedkorea', 0.29154425106181092),\n",
        " ('korea', 0.28974376128994117),\n",
        " ('daewon', 0.26742357729621302),\n",
        " ('choson', 0.26511021919830402),\n",
        " ('hanguk', 0.26229815980858989),\n",
        " ('surrender', 0.26190920080205282),\n",
        " ('guren', 0.25867368172764876),\n",
        " ('shinhwas', 0.25807938718529227),\n",
        " ('yeol', 0.25803469057416473),\n",
        " ('takamitsu', 0.25752070502706387),\n",
        " ('heon', 0.25654034505274226),\n",
        " ('iyagi', 0.25616830942213309),\n",
        " ('gyeongsang', 0.25598475883540156),\n",
        " ('dongguk', 0.2551842696342434),\n",
        " ('mochida', 0.25483547060359574),\n",
        " ('kosei', 0.25375466243025535),\n",
        " ('asientournee', 0.2535253472668319),\n",
        " ('korean', 0.25352486284178238),\n",
        " ('seohyun', 0.25345200070118479),\n",
        " ('cheon', 0.25312291036456747),\n",
        " ('kokichi', 0.25286910337599805),\n",
        " ('gwong', 0.25277734830444415),\n",
        " ('sooyoung', 0.25272515754021668),\n",
        " ('ignited', 0.25250516682954249),\n",
        " ('goichi', 0.25246228579608293),\n",
        " ('namja', 0.25234820423249399),\n",
        " ('marginality', 0.25227422336320593),\n",
        " ('youngest', 0.25226544459403877),\n",
        " ('ewha', 0.25221001929539461),\n",
        " ('suedkoreas', 0.25196863423263438),\n",
        " ('daesung', 0.25193285886503025),\n",
        " ('inochi', 0.25190601787118927),\n",
        " ('kudasai', 0.25181976640122189),\n",
        " ('miryang', 0.25174544332669668),\n",
        " ('imjin', 0.25172484922405775)]\n"
       ]
      }
     ],
     "prompt_number": 24
    },
    {
     "cell_type": "markdown",
     "metadata": {},
     "source": [
      "This results displays that some of them work and some of them although grammatically correct the word is not exactly the expected (Korea vs Sudkorea) or  is the first postions. Of course there are other cases in which nonen of the vectors matched represent a somewhat logical relationships. "
     ]
    },
    {
     "cell_type": "heading",
     "level": 2,
     "metadata": {},
     "source": [
      "Superlative"
     ]
    },
    {
     "cell_type": "markdown",
     "metadata": {},
     "source": [
      "let's see how the superlative work\n"
     ]
    },
    {
     "cell_type": "code",
     "collapsed": false,
     "input": [
      "vec = ['schlecht','schlechter', 'gross', 'groesster']\n",
      "vec2 =  ['hell','hellste', 'kalt', 'kaelteste']\n",
      "vec3 = ['dunkel', 'dunkelste', 'zuegig', 'zuegigsten']\n",
      "\n",
      "\n",
      "pp.pprint(model.analogy(pos=[vec[0], vec[3]], neg=[vec[1]], n=35))\n",
      "pp.pprint(model.analogy(pos=[vec2[0], vec2[3]], neg=[vec2[1]], n=35))\n",
      "pp.pprint(model.analogy(pos=[vec3[0], vec3[3]], neg=[vec3[1]], n=35))\n",
      "\n",
      "\n"
     ],
     "language": "python",
     "metadata": {},
     "outputs": [
      {
       "output_type": "stream",
       "stream": "stdout",
       "text": [
        "[('groesseres', 0.26233778324095408),\n",
        " ('ausserdem', 0.25628442498178194),\n",
        " ('groesste', 0.25149879029927186),\n",
        " ('groesstes', 0.25025256788290712),\n",
        " ('grossteil', 0.24703190955751295),\n",
        " ('groessten', 0.24592098147361874),\n",
        " ('groessenordnung', 0.24208761269156315),\n",
        " ('grossem', 0.24118971360478611),\n",
        " ('viertgroesste', 0.24035409812064365),\n",
        " ('anhin', 0.24009243671573105),\n",
        " ('aeusserst', 0.23922244780125215),\n",
        " ('aussergewoehnlich', 0.23875816313263792),\n",
        " ('troz', 0.23843687862065788),\n",
        " ('wyna', 0.23801762528934434),\n",
        " ('aussergewoehnliche', 0.2375165251114541),\n",
        " ('zahlenmaessig', 0.23655313518981458),\n",
        " ('oberschoenenbuch', 0.235999981018372),\n",
        " ('gewissermassen', 0.23575898202128281),\n",
        " ('stossen', 0.23551387055125678),\n",
        " ('erschliessen', 0.23537292611431632),\n",
        " ('schliesslich', 0.23435680016401544),\n",
        " ('bloss', 0.23384467911780624),\n",
        " ('horw', 0.23326520015444796),\n",
        " ('zweitgroesste', 0.23317945252257061),\n",
        " ('nichtschweizer', 0.23303187044192286),\n",
        " ('freienbach', 0.23267939618928055),\n",
        " ('gleichermassen', 0.23266917654732783),\n",
        " ('aussergewoehnlichen', 0.23234659303582428),\n",
        " ('groessere', 0.23148160860111217),\n",
        " ('groesstenteils', 0.23018141891171218),\n",
        " ('turbinenbraeu', 0.22983774846516108),\n",
        " ('heidiland', 0.22968886378406855),\n",
        " ('schweizweite', 0.22909787616894753),\n",
        " ('gesamthaft', 0.22899574932690286),\n",
        " ('mittelgrosse', 0.22889969944318966),\n",
        " ('geniesst', 0.22883116543901338)]\n",
        "["
       ]
      },
      {
       "output_type": "stream",
       "stream": "stdout",
       "text": [
        "('tiefsttemperaturen', 0.29276178027822086),\n",
        " ('schneereich', 0.28263639898664539),\n",
        " ('sommern', 0.28134806404821561),\n",
        " ('hoechsttemperaturen', 0.28106680588232558),\n",
        " ('hoechsttemperatur', 0.27806430670351473),\n",
        " ('waermste', 0.27649034990881582),\n",
        " ('jahresniederschlagssumme', 0.27534194440435089),\n",
        " ('kaeltesten', 0.27481979520162358),\n",
        " ('niederschlagsreich', 0.27414612150419504),\n",
        " ('tiefsttemperatur', 0.2733863023781144),\n",
        " ('tageshoechsttemperaturen', 0.27325693572490917),\n",
        " ('niederschlagsmenge', 0.27286509991708063),\n",
        " ('hochsommer', 0.27236007687733071),\n",
        " ('regentage', 0.2710362260935984),\n",
        " ('waermsten', 0.27075832096434316),\n",
        " ('tagestemperatur', 0.27032373140138699),\n",
        " ('niederschlagsaermste', 0.2699422541969545),\n",
        " ('niederschlagsreichste', 0.26887876159324503),\n",
        " ('jahresniederschlagsmenge', 0.26755355294582917),\n",
        " ('frostfrei', 0.26699752503148344),\n",
        " ('jahresmitteltemperatur', 0.26641158914156005),\n",
        " ('sommertemperaturen', 0.26545337230139199),\n",
        " ('schneereiche', 0.26540493269605647),\n",
        " ('regentagen', 0.26462103561646411),\n",
        " ('regenmenge', 0.26348641402167355),\n",
        " ('frostigen', 0.26323927315861012),\n",
        " ('kaeltester', 0.26300288694935947),\n",
        " ('regenmengen', 0.26241604511691108),\n",
        " ('jahresniederschlaege', 0.26210291530389962),\n",
        " ('tiefstwerte', 0.26169417403352113),\n",
        " ('tagestemperaturen', 0.2616751038394371),\n",
        " ('winter', 0.26145365437056334),\n",
        " ('schneefall', 0.26117269870906523),\n",
        " ('hauptregenzeit', 0.25967433441109056),\n",
        " ('niederschlagsmengen', 0.25939908317554683)]\n",
        "["
       ]
      },
      {
       "output_type": "stream",
       "stream": "stdout",
       "text": [
        "('freiwohnungen', 0.2545850318919417),\n",
        " ('vermoegendere', 0.25206618539756703),\n",
        " ('tapetenmanufaktur', 0.25061935274316793),\n",
        " ('schlosseigentuemer', 0.25035491873205612),\n",
        " ('saarskaja', 0.25033831792947725),\n",
        " ('miniaturbildnisse', 0.24985543540748195),\n",
        " ('hofkuenstlern', 0.24970346050749045),\n",
        " ('wohltaetigkeiten', 0.2495894206898242),\n",
        " ('rokokostils', 0.24916536010653206),\n",
        " ('starkbiers', 0.2491102629840275),\n",
        " ('orangengarten', 0.24891247755821597),\n",
        " ('hofbaelle', 0.24851242523513206),\n",
        " ('kurfuerstenhaus', 0.24839128779319519),\n",
        " ('ensmannsreuter', 0.24823026601804779),\n",
        " ('privatresidenzen', 0.24814933956790852),\n",
        " ('kunstverstaendigen', 0.24814869621902241),\n",
        " ('gartenfeste', 0.24807355470560327),\n",
        " ('palastdamen', 0.24799711093322219),\n",
        " ('hochzeitsfeste', 0.24796735798909028),\n",
        " ('stricknerin', 0.24791492562494072),\n",
        " ('versorgungsstaette', 0.24780503728043257),\n",
        " ('nachbesitzer', 0.24762760429114722),\n",
        " ('konventsangehoerigen', 0.24747362336522177),\n",
        " ('rokokopalais', 0.24737753793924383),\n",
        " ('stadtpalastes', 0.24728474823914054),\n",
        " ('klosterabt', 0.24713811838529148),\n",
        " ('schulfond', 0.24708514352495473),\n",
        " ('ablassbulle', 0.24697190903961364),\n",
        " ('calvinistin', 0.24689874541207879),\n",
        " ('gottgeweihtes', 0.24684396084261037),\n",
        " ('infirmarium', 0.2468011468010608),\n",
        " ('rauchfa', 0.24657444322969446),\n",
        " ('hohenzollernhauses', 0.24639318400279944),\n",
        " ('paulanern', 0.24639117389739593),\n",
        " ('prunkgemaechern', 0.24616946683257449),\n",
        " ('azelins', 0.24616010471087363)]\n"
       ]
      }
     ],
     "prompt_number": 41
    },
    {
     "cell_type": "code",
     "collapsed": false,
     "input": [],
     "language": "python",
     "metadata": {},
     "outputs": []
    },
    {
     "cell_type": "markdown",
     "metadata": {},
     "source": [
      "The results show that for example, "
     ]
    }
   ],
   "metadata": {}
  }
 ]
}